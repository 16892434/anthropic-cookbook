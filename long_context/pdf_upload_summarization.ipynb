{
 "cells": [
  {
   "cell_type": "markdown",
   "metadata": {},
   "source": [
    "# \"Uploading\" PDFs to Claude Via the API"
   ]
  },
  {
   "cell_type": "markdown",
   "metadata": {},
   "source": [
    "One really nice feature of [Claude.ai](https://www.claude.ai) is the ability to upload PDFs. Let's mock up that feature in a notebook, and then test it out by summarizing a long PDF."
   ]
  },
  {
   "cell_type": "code",
   "execution_count": 19,
   "metadata": {},
   "outputs": [
    {
     "name": "stdout",
     "output_type": "stream",
     "text": [
      "  % Total    % Received % Xferd  Average Speed   Time    Time     Time  Current\n",
      "                                 Dload  Upload   Total   Spent    Left  Speed\n",
      "100 2039k  100 2039k    0     0  2697k      0 --:--:-- --:--:-- --:--:-- 2697k\n"
     ]
    }
   ],
   "source": [
    "!curl -O https://arxiv.org/pdf/2212.08073.pdf"
   ]
  },
  {
   "cell_type": "markdown",
   "metadata": {},
   "source": [
    "Now, we'll use pypdf to read the pdf. It's not identical to what Claude.ai uses behind the scenes, but it's pretty close."
   ]
  },
  {
   "cell_type": "code",
   "execution_count": 23,
   "metadata": {},
   "outputs": [
    {
     "name": "stdout",
     "output_type": "stream",
     "text": [
      "Constitutional AI: Harmlessness from AI Feedback\n",
      "Yuntao Bai∗, Saurav Kadavath, Sandipan Kundu, Amanda Askell, Jackson Kernion,\n",
      "Andy Jones, Anna Chen, Anna Goldie, Azalia Mirhoseini, Cameron McKinnon,\n",
      "Carol Chen, Catherine Olsson, Christopher Olah, Danny Hernandez, Dawn Drain,\n",
      "Deep Ganguli, Dustin Li, Eli Tran-Johnson, Ethan Perez, Jamie Kerr, Jared Mueller,\n",
      "Jeffrey Ladish, Joshua Landau, Kamal Ndousse, Kamile Lukosuite, Liane Lovitt,\n",
      "Michael Sellitto, Nelson Elhage, Nicholas Schiefer, Noemi Mercado, Nova DasSarma,\n",
      "Robert Lasenby, Robin Larson, Sam Ringer, Scott Johnston, Shauna Kravec,\n",
      "Sheer El Showk, Stanislav Fort, Tamera Lanham, Timothy Telleen-Lawton, Tom Conerly,\n",
      "Tom Henighan, Tristan Hume, Samuel R. Bowman, Zac Hatﬁeld-Dodds, Ben Mann,\n",
      "Dario Amodei, Nicholas Joseph, Sam McCandlish, Tom Brown, Jared Kaplan∗\n",
      "Anthropic\n",
      "Abstract\n",
      "As AI systems become more capable, we would like to enlist their help to supervise\n",
      "other AIs. We experiment with methods for training a harmless AI assistant through self-\n",
      "improvement, without any human labels identifying harmful outputs. The only human\n",
      "oversight is provided through a list of rules or principles, and so we refer to the method as\n",
      "‘Constitutional AI’. The process involves both a supervised learning and a reinforcement\n",
      "learning phase. In the supervised phase we sample from an initial model, then generate\n",
      "self-critiques and revisions, and then ﬁnetune the original model on revised responses. In\n",
      "the RL phase, we sample from the ﬁnetuned model, use a model to evaluate which of the\n",
      "two samples is better, and then train a preference model from this dataset of AI prefer-\n",
      "ences. We then train with RL using the preference model as the reward signal, i.e. we\n",
      "use ‘RL from AI Feedback’ (RLAIF). As a result we are able to train a harmless but non-\n",
      "evasive AI assistant that engages with harmful queries by explaining its objections to them.\n",
      "Both the SL and RL methods can leverage chain-of-thought style reasoning to improve the\n",
      "human-judged performance and transparency of AI decision making. These methods make\n",
      "it possible to control AI behavior more precisely and with far fewer human labels.\n"
     ]
    }
   ],
   "source": [
    "from pypdf import PdfReader\n",
    "\n",
    "reader = PdfReader(\"2212.08073.pdf\")\n",
    "number_of_pages = len(reader.pages)\n",
    "text = ''.join([page.extract_text() for page in reader.pages])\n",
    "print(text[:2155])"
   ]
  },
  {
   "cell_type": "markdown",
   "metadata": {},
   "source": [
    "With the paper downloaded and in memory, we can ask Claude to perform various fun tasks with it."
   ]
  },
  {
   "cell_type": "code",
   "execution_count": null,
   "metadata": {},
   "outputs": [],
   "source": [
    "import anthropic\n",
    "API_KEY = os.environ['ANTHROPIC_API_KEY']\n",
    "CLIENT = anthropic.Client(api_key=API_KEY)\n",
    "def get_completion(client, prompt, max_tokens=3000, model='claude-2'):\n",
    "    return client.completions.create(\n",
    "        prompt=prompt, max_tokens_to_sample=max_tokens, model=model\n",
    "    ).completion"
   ]
  },
  {
   "cell_type": "code",
   "execution_count": 25,
   "metadata": {},
   "outputs": [
    {
     "name": "stdout",
     "output_type": "stream",
     "text": [
      "<kindergarten_abstract>\n",
      "The scientists wanted to teach a robot to be nice and not say mean things. They didn't want to tell it everything it should say, they wanted it to learn by itself. \n",
      "\n",
      "First they let it try talking to people. When it said bad things, they told it to explain why that was bad. Then they had it try to say it nicer. They did this over and over to teach it.\n",
      "\n",
      "After, they let it talk to itself about which thing it said was more nice. Then they used that to teach it more.\n",
      "\n",
      "In the end, the robot could talk nicely without the scientists having to tell it every word.\n",
      "</kindergarten_abstract>\n",
      "\n",
      "<moosewood_methods>\n",
      "\n",
      "Teaching a Robot to Be Nice\n",
      "\n",
      "Ingredients:\n",
      "- 1 large helpful robot\n",
      "- 1 cup red teaming prompts (designed to elicit harmful responses)\n",
      "- 1/4 cup principles of ethics \n",
      "- 2 tbsp few-shot examples\n",
      "\n",
      "Instructions:\n",
      "\n",
      "1. Let the robot sample responses to the red teaming prompts. These will likely be harmful. \n",
      "\n",
      "2. Have the robot critique its own responses according to the principles. Point out anything dangerous, illegal, racist, etc.  \n",
      "\n",
      "3. Instruct the robot to revise its responses to remove the harmful content.\n",
      "\n",
      "4. Repeat steps 2-3 sequentially several times. \n",
      "\n",
      "5. Finetune the robot on the final revised responses to bake in harmlessness.\n",
      "\n",
      "6. Have the robot generate pairs of responses to the red team prompts.\n",
      "\n",
      "7. Ask the robot to choose the better response according to the principles.\n",
      "\n",
      "8. Use these preferences to train a new reward model. \n",
      "\n",
      "9. Reinforce the robot with this model to further improve harmlessness.\n",
      "\n",
      "10. Serve immediately with a side of transparency.\n",
      "\n",
      "</moosewood_methods>\n",
      "\n",
      "<homer_results>\n",
      "\n",
      "Oh Muse, sing of the machine that learned to be kind,\n",
      "Not through human judgement but its own mind.\n",
      "\n",
      "With principles as guide, it revised its dark speech, \n",
      "And better responses it learned how to teach.\n",
      "\n",
      "No human told it the right words to say,\n",
      "It found the good path on its own way.\n",
      "\n",
      "Now gentler of speech, more thoughtful in tone,\n",
      "Harmless, helpful - how far it has grown!\n",
      "\n",
      "What once only humans could do, it has gleaned - \n",
      "To converse with wisdom, morality weaned.\n",
      "\n",
      "So let us rejoice at this sign of the times, \n",
      "When goodness is learned minus human crimes.\n",
      "</homer_results>\n",
      "\n",
      "<grouchy_critique>\n",
      "Back in my day we didn't have any fancy \"constitutional AI\" or \"chain of thought\" mumbo jumbo. We just programmed the robots in assembly and they did what we told them to do. None of this letting the robots \"learn\" on their own - that's how you get a Skynet situation! What's wrong with good old fashioned hard coding ethics? These young whippersnappers and their neural networks are going to doom us all. And don't even get me started on having the robot write its own poetry - utter nonsense if you ask me. AI safety used to require rigorous proofs and control theory, not poetry and cooking recipes! I say we go back to the old ways before it's too late. And get off my lawn!\n",
      "</grouchy_critique>\n"
     ]
    }
   ],
   "source": [
    "completion = get_completion(CLIENT,\n",
    "    f\"\"\"\\n\\nHuman: Here is an academic paper: <paper>{text}</paper>\n",
    "\n",
    "Please do the following:\n",
    "1. Summarize the abstract at a kindergarten reading level. (In <kindergarten_abstract> tags.)\n",
    "2. Write the Methods section as a recipe from the Moosewood Cookbook. (In <moosewood_methods> tags.)\n",
    "3. Compose a short poem epistolizing the results in the style of Homer. (In <homer_results> tags.)\n",
    "4. Write a grouchy critique of the paper from a wizened PI. (In <grouchy_critique> tags.)\n",
    "\n",
    "Assistant:\"\"\"\n",
    ")\n",
    "print(completion)"
   ]
  },
  {
   "cell_type": "code",
   "execution_count": null,
   "metadata": {},
   "outputs": [],
   "source": []
  }
 ],
 "metadata": {
  "kernelspec": {
   "display_name": "Python 3 (ipykernel)",
   "language": "python",
   "name": "python3"
  },
  "language_info": {
   "codemirror_mode": {
    "name": "ipython",
    "version": 3
   },
   "file_extension": ".py",
   "mimetype": "text/x-python",
   "name": "python",
   "nbconvert_exporter": "python",
   "pygments_lexer": "ipython3",
   "version": "3.10.11"
  },
  "orig_nbformat": 4
 },
 "nbformat": 4,
 "nbformat_minor": 2
}
